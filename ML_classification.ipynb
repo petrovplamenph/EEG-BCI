{
 "cells": [
  {
   "cell_type": "markdown",
   "metadata": {},
   "source": [
    "# Traditional  classification approach\n",
    "Train knn, decision tree, SVMs\n",
    "For SVMs use strategies one vs many/many vs many"
   ]
  },
  {
   "cell_type": "code",
   "execution_count": 1,
   "metadata": {},
   "outputs": [],
   "source": [
    "import numpy as np\n",
    "import pandas as pd\n",
    "import matplotlib.pyplot as plt\n",
    "\n",
    "from sklearn.utils import shuffle\n",
    "\n",
    "from readers_preprocess import read_filter\n",
    "from time_to_freq_domain import eval_psd_not_modulated\n",
    "\n",
    "from dim_reduction import  rank_features, pca_data, select_best_chanels\n",
    "from transformers import flatten_data, transform_to_one_chanel_data\n",
    "from classification import train_test\n",
    "from sklearn.decomposition import PCA\n",
    "%matplotlib notebook\n"
   ]
  },
  {
   "cell_type": "code",
   "execution_count": 2,
   "metadata": {
    "scrolled": true
   },
   "outputs": [
    {
     "name": "stdout",
     "output_type": "stream",
     "text": [
      "RBF SVM \n",
      "SVC(C=100, cache_size=200, class_weight=None, coef0=0.0,\n",
      "  decision_function_shape='ovr', degree=3, gamma=0.12, kernel='rbf',\n",
      "  max_iter=-1, probability=False, random_state=None, shrinking=True,\n",
      "  tol=0.001, verbose=False)\n",
      "0.663043478261\n",
      "linear SVM \n",
      "LinearSVC(C=10, class_weight=None, dual=True, fit_intercept=True,\n",
      "     intercept_scaling=1, loss='squared_hinge', max_iter=1000,\n",
      "     multi_class='ovr', penalty='l2', random_state=None, tol=0.0001,\n",
      "     verbose=0)\n",
      "0.678260869565\n",
      "KNN Euclidian\n",
      "0.632608695652\n",
      "DT\n",
      "DecisionTreeClassifier(class_weight=None, criterion='gini', max_depth=None,\n",
      "            max_features=None, max_leaf_nodes=None,\n",
      "            min_impurity_decrease=0.0, min_impurity_split=None,\n",
      "            min_samples_leaf=1, min_samples_split=2,\n",
      "            min_weight_fraction_leaf=0.0, presort=False, random_state=None,\n",
      "            splitter='best')\n",
      "0.586956521739\n",
      "RBF SVM \n",
      "SVC(C=1000, cache_size=200, class_weight=None, coef0=0.0,\n",
      "  decision_function_shape='ovr', degree=3, gamma=0.12, kernel='rbf',\n",
      "  max_iter=-1, probability=False, random_state=None, shrinking=True,\n",
      "  tol=0.001, verbose=False)\n",
      "0.475663716814\n",
      "linear SVM \n",
      "LinearSVC(C=1000, class_weight=None, dual=True, fit_intercept=True,\n",
      "     intercept_scaling=1, loss='squared_hinge', max_iter=1000,\n",
      "     multi_class='ovr', penalty='l2', random_state=None, tol=0.0001,\n",
      "     verbose=0)\n",
      "0.471238938053\n",
      "KNN Euclidian\n",
      "0.5\n",
      "DT\n",
      "DecisionTreeClassifier(class_weight=None, criterion='entropy', max_depth=None,\n",
      "            max_features=None, max_leaf_nodes=None,\n",
      "            min_impurity_decrease=0.0, min_impurity_split=None,\n",
      "            min_samples_leaf=1, min_samples_split=2,\n",
      "            min_weight_fraction_leaf=0.0, presort=False, random_state=None,\n",
      "            splitter='best')\n",
      "0.413716814159\n",
      "RBF SVM \n",
      "SVC(C=0.001, cache_size=200, class_weight=None, coef0=0.0,\n",
      "  decision_function_shape='ovr', degree=3, gamma=0.12, kernel='rbf',\n",
      "  max_iter=-1, probability=False, random_state=None, shrinking=True,\n",
      "  tol=0.001, verbose=False)\n",
      "0.513333333333\n",
      "linear SVM \n",
      "LinearSVC(C=0.1, class_weight=None, dual=True, fit_intercept=True,\n",
      "     intercept_scaling=1, loss='squared_hinge', max_iter=1000,\n",
      "     multi_class='ovr', penalty='l2', random_state=None, tol=0.0001,\n",
      "     verbose=0)\n",
      "0.508888888889\n",
      "KNN Euclidian\n",
      "0.504444444444\n",
      "DT\n",
      "DecisionTreeClassifier(class_weight=None, criterion='gini', max_depth=None,\n",
      "            max_features=None, max_leaf_nodes=None,\n",
      "            min_impurity_decrease=0.0, min_impurity_split=None,\n",
      "            min_samples_leaf=1, min_samples_split=3,\n",
      "            min_weight_fraction_leaf=0.0, presort=False, random_state=None,\n",
      "            splitter='best')\n",
      "0.437777777778\n"
     ]
    }
   ],
   "source": [
    "\n",
    "\n",
    "all_paths = [['data_bci\\\\row_data\\\\subject1\\\\'], ['data_bci\\\\row_data\\\\subject2\\\\'],['data_bci\\\\row_data\\\\subject3\\\\']]\n",
    "columns_to_read =  ['Fp1', 'AF3' ,'F7', 'F3', 'FC1', 'FC5', 'T7', 'C3', 'CP1', 'CP5',\n",
    "                   'P7', 'P3', 'Pz', 'PO3', 'O1', 'Oz', 'O2', 'PO4', 'P4', 'P8', 'CP6',\n",
    "                   'CP2', 'C4', 'T8', 'FC6', 'FC2', 'F4', 'F8', 'AF4', 'Fp2', 'Fz', 'Cz','class']\n",
    "\n",
    "test_subject = '03'#evaluate on the 3rd session\n",
    "train_subjects = ['01','02']#train on 1st and 2nd sessions\n",
    "\n",
    "\n",
    "chanels_rank =  [25,  4,  9, 26, 30, 11,  7]#chanel selection precedure, selected chanels indexes\n",
    "\n",
    "num_perseg = 128\n",
    "num_overlap = 64\n",
    "freq=512\n",
    "min_freq = 8\n",
    "max_freq = 45\n",
    "classification_report = []\n",
    "pca_n_components = []\n",
    "for path in all_paths:\n",
    "    cutoff_beggining = 0\n",
    "    seq_len = 0\n",
    "    cut_step = 0\n",
    "    train_data, _, train_anots, test_data, _, test_annoations = read_filter(path, train_subjects, test_subject, columns_to_read, cutoff_beggining, seq_len, cut_step)\n",
    "    seq_len = freq\n",
    "    cut_step = int(seq_len/2)\n",
    "    window_train_data, _, window_train_anots, window_test_data, _, window_test_annoations = read_filter(path, train_subjects, test_subject, columns_to_read, cutoff_beggining, seq_len, cut_step)\n",
    "   \n",
    "\n",
    "    y_train = train_anots\n",
    "    y_test = window_test_annoations\n",
    "        \n",
    "    X_train =  eval_psd_not_modulated(train_data, num_perseg, num_overlap, freq, min_freq, max_freq)\n",
    "    X_test =  eval_psd_not_modulated(window_test_data, num_perseg, num_overlap, freq, min_freq, max_freq)\n",
    "        \n",
    "    X_train = flatten_data(X_train[:,:,chanels_rank])\n",
    "    X_test = flatten_data(X_test[:,:,chanels_rank]) \n",
    "        \n",
    "    most_important_features = rank_features(X_train, y_train)\n",
    "        \n",
    "    X_train = X_train[:, most_important_features]\n",
    "    X_test = X_test[:, most_important_features]\n",
    "    pca_n_components.append(PCA().fit(X_train).explained_variance_ratio_)\n",
    "\n",
    "    pca = PCA(n_components=0.985)\n",
    "    X_train = pca.fit_transform(X_train)\n",
    "    X_test = pca.transform(X_test)\n",
    "    \n",
    "    max_el = X_train.max()\n",
    "    min_el = X_train.min()\n",
    "    X_train = (X_train-min_el)/(max_el-min_el)\n",
    "    X_test = (X_test-min_el)/(max_el-min_el)\n",
    "    \n",
    "    report, algorithams_names = train_test(X_train, X_test, y_train, y_test)\n",
    "    classification_report.append(report)\n"
   ]
  },
  {
   "cell_type": "code",
   "execution_count": 3,
   "metadata": {},
   "outputs": [
    {
     "data": {
      "text/plain": [
       "array([ 0.87792554,  0.93217271,  0.96043107,  0.97804326,  0.9890892 ,\n",
       "        0.9928422 ,  0.9955653 ,  0.99751026,  0.99856111,  0.9992549 ,\n",
       "        0.99967722,  0.99985628,  0.99995446,  1.        ])"
      ]
     },
     "execution_count": 3,
     "metadata": {},
     "output_type": "execute_result"
    }
   ],
   "source": [
    "maxlen = max(len(lst) for lst in pca_n_components)\n",
    "explained_vars = [np.cumsum(var) for var in pca_n_components]\n",
    "sumlist = [sum([lst[i] if i<len(lst) else 1 for lst in explained_vars]) for i in range(maxlen)]\n",
    "mean_vars = np.array(sumlist)/3\n",
    "mean_vars"
   ]
  },
  {
   "cell_type": "code",
   "execution_count": 4,
   "metadata": {},
   "outputs": [
    {
     "data": {
      "text/plain": [
       "[Text(0,0.5,'mean explained variance ratio'), Text(0.5,0,'Component')]"
      ]
     },
     "execution_count": 4,
     "metadata": {},
     "output_type": "execute_result"
    },
    {
     "data": {
      "image/png": "[encoded data removed]",
      "text/plain": [
       "<Figure size 432x288 with 1 Axes>"
      ]
     },
     "metadata": {},
     "output_type": "display_data"
    }
   ],
   "source": [
    "\n",
    "fig, ax = plt.subplots()\n",
    "ax.plot(range(1, len(mean_vars)+1), mean_vars)\n",
    "\n",
    "ax.set(xlabel='Component', ylabel='mean explained variance ratio')"
   ]
  },
  {
   "cell_type": "code",
   "execution_count": 5,
   "metadata": {},
   "outputs": [
    {
     "data": {
      "text/html": [
       "<div>\n",
       "<style scoped>\n",
       "    .dataframe tbody tr th:only-of-type {\n",
       "        vertical-align: middle;\n",
       "    }\n",
       "\n",
       "    .dataframe tbody tr th {\n",
       "        vertical-align: top;\n",
       "    }\n",
       "\n",
       "    .dataframe thead th {\n",
       "        text-align: right;\n",
       "    }\n",
       "</style>\n",
       "<table border=\"1\" class=\"dataframe\">\n",
       "  <thead>\n",
       "    <tr style=\"text-align: right;\">\n",
       "      <th></th>\n",
       "      <th>person_1_accuracy</th>\n",
       "      <th>person_2_accuracy</th>\n",
       "      <th>person_3_accuracy</th>\n",
       "      <th>mean_accuracy</th>\n",
       "      <th>std_accuracy</th>\n",
       "    </tr>\n",
       "    <tr>\n",
       "      <th>algoritham</th>\n",
       "      <th></th>\n",
       "      <th></th>\n",
       "      <th></th>\n",
       "      <th></th>\n",
       "      <th></th>\n",
       "    </tr>\n",
       "  </thead>\n",
       "  <tbody>\n",
       "    <tr>\n",
       "      <th>RBF SVM</th>\n",
       "      <td>0.663</td>\n",
       "      <td>0.476</td>\n",
       "      <td>0.513</td>\n",
       "      <td>0.551</td>\n",
       "      <td>0.099</td>\n",
       "    </tr>\n",
       "    <tr>\n",
       "      <th>linear SVM</th>\n",
       "      <td>0.678</td>\n",
       "      <td>0.471</td>\n",
       "      <td>0.509</td>\n",
       "      <td>0.553</td>\n",
       "      <td>0.110</td>\n",
       "    </tr>\n",
       "    <tr>\n",
       "      <th>KNN Euclidian</th>\n",
       "      <td>0.633</td>\n",
       "      <td>0.500</td>\n",
       "      <td>0.504</td>\n",
       "      <td>0.546</td>\n",
       "      <td>0.075</td>\n",
       "    </tr>\n",
       "    <tr>\n",
       "      <th>Decision tree</th>\n",
       "      <td>0.587</td>\n",
       "      <td>0.414</td>\n",
       "      <td>0.438</td>\n",
       "      <td>0.479</td>\n",
       "      <td>0.094</td>\n",
       "    </tr>\n",
       "  </tbody>\n",
       "</table>\n",
       "</div>"
      ],
      "text/plain": [
       "               person_1_accuracy  person_2_accuracy  person_3_accuracy  \\\n",
       "algoritham                                                               \n",
       "RBF SVM                    0.663              0.476              0.513   \n",
       "linear SVM                 0.678              0.471              0.509   \n",
       "KNN Euclidian              0.633              0.500              0.504   \n",
       "Decision tree              0.587              0.414              0.438   \n",
       "\n",
       "               mean_accuracy  std_accuracy  \n",
       "algoritham                                  \n",
       "RBF SVM                0.551         0.099  \n",
       "linear SVM             0.553         0.110  \n",
       "KNN Euclidian          0.546         0.075  \n",
       "Decision tree          0.479         0.094  "
      ]
     },
     "execution_count": 5,
     "metadata": {},
     "output_type": "execute_result"
    }
   ],
   "source": [
    "alghortihams_results = pd.DataFrame(classification_report, columns=algorithams_names).T\n",
    "\n",
    "alghortihams_results.columns = ['person_1_accuracy', 'person_2_accuracy', 'person_3_accuracy']\n",
    "alghortihams_results.index.name = 'algoritham'\n",
    "\n",
    "means = alghortihams_results.mean(axis=1)\n",
    "stds = alghortihams_results.std(axis=1)\n",
    "\n",
    "alghortihams_results['mean_accuracy'] = means\n",
    "alghortihams_results['std_accuracy'] = stds\n",
    "alghortihams_results = alghortihams_results.round(3)\n",
    "\n",
    "alghortihams_results.to_excel(\"Multiclass_ML_accuracies.xlsx\")\n",
    "alghortihams_results"
   ]
  }
 ],
 "metadata": {
  "kernelspec": {
   "display_name": "Python 3",
   "language": "python",
   "name": "python3"
  },
  "language_info": {
   "codemirror_mode": {
    "name": "ipython",
    "version": 3
   },
   "file_extension": ".py",
   "mimetype": "text/x-python",
   "name": "python",
   "nbconvert_exporter": "python",
   "pygments_lexer": "ipython3",
   "version": "3.6.5"
  }
 },
 "nbformat": 4,
 "nbformat_minor": 2
}
